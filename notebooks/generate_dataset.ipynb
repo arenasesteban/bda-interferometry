{
 "cells": [
  {
   "cell_type": "code",
   "execution_count": 23,
   "id": "e39c37a7",
   "metadata": {},
   "outputs": [],
   "source": [
    "# Importar librerías necesarias\n",
    "import os\n",
    "import sys\n",
    "\n",
    "# Agregar el directorio src al path\n",
    "notebook_path = os.path.abspath(\"\")\n",
    "src_path = os.path.join(notebook_path, \"..\", \"src\")\n",
    "sys.path.append(src_path)\n",
    "\n",
    "existing_cfg_filename = \"../antenna_configs/alma.cycle10.1.cfg\"\n",
    "existing_cfg_path = os.path.join(notebook_path, existing_cfg_filename)"
   ]
  },
  {
   "cell_type": "code",
   "execution_count": 24,
   "id": "50f6c60d",
   "metadata": {},
   "outputs": [],
   "source": [
    "# Importar la clase DatasetGenerator\n",
    "from pipeline.dataset_generator import DatasetGenerator"
   ]
  },
  {
   "cell_type": "code",
   "execution_count": 25,
   "id": "669ea0e8",
   "metadata": {},
   "outputs": [],
   "source": [
    "# Crear instancia del DatasetGenerator\n",
    "generator = DatasetGenerator(antenna_config_path=existing_cfg_path)"
   ]
  },
  {
   "cell_type": "code",
   "execution_count": 26,
   "id": "d20a7f29",
   "metadata": {},
   "outputs": [],
   "source": [
    "dataset = generator.generate_dataset(\n",
    "            # Configuración de frecuencias\n",
    "            freq_start=35.0,           # GHz - ALMA Band 1 inicio\n",
    "            freq_end=50.0,             # GHz - ALMA Band 1 fin\n",
    "            n_frequencies=50,          # Número de canales de frecuencia\n",
    "            \n",
    "            # Configuración de observación\n",
    "            date_string=\"2002-05-10\",  # Fecha de observación\n",
    "            observation_time=\"4h\",     # Tiempo total de observación\n",
    "            declination=\"-45d00m00s\",  # Ángulo de declinación\n",
    "            integration_time=180.0,    # Tiempo de integración en segundos\n",
    "            \n",
    "            # Configuración de fuentes puntuales\n",
    "            n_point_sources=15,        # Número de fuentes puntuales\n",
    "            point_flux_density=1.0,    # Densidad de flujo en mJy\n",
    "            point_spectral_index=3.0,  # Índice espectral\n",
    "            \n",
    "            # Configuración de fuente Gaussiana\n",
    "            include_gaussian=True,     # Incluir fuente Gaussiana\n",
    "            gaussian_flux_density=10.0,   # Densidad de flujo en Jy\n",
    "            gaussian_position=(0, 0),     # Posición (l, m)\n",
    "            gaussian_minor_radius=20.0,   # Radio menor en arcsec\n",
    "            gaussian_major_radius=30.0,   # Radio mayor en arcsec\n",
    "            gaussian_theta_angle=60.0     # Ángulo de posición en grados\n",
    "        )"
   ]
  },
  {
   "cell_type": "code",
   "execution_count": 28,
   "id": "6029c0a9",
   "metadata": {},
   "outputs": [],
   "source": [
    "# Aplicar data_extractor para convertir el dataset a JSON\n",
    "from streaming.data_extractor import dataset_to_json\n",
    "import json\n",
    "\n",
    "# Convertir dataset a JSON\n",
    "json_output = dataset_to_json(dataset)\n",
    "dataset_json = json.loads(json_output)\n",
    "\n",
    "# Guardar el JSON en un archivo\n",
    "output_json_path = os.path.join(notebook_path, \"dataset.json\")\n",
    "with open(output_json_path, 'w') as json_file:\n",
    "    json.dump(dataset_json, json_file, indent=4)"
   ]
  }
 ],
 "metadata": {
  "kernelspec": {
   "display_name": "bda-env",
   "language": "python",
   "name": "python3"
  },
  "language_info": {
   "codemirror_mode": {
    "name": "ipython",
    "version": 3
   },
   "file_extension": ".py",
   "mimetype": "text/x-python",
   "name": "python",
   "nbconvert_exporter": "python",
   "pygments_lexer": "ipython3",
   "version": "3.10.18"
  }
 },
 "nbformat": 4,
 "nbformat_minor": 5
}
