{
 "cells": [
  {
   "cell_type": "code",
   "execution_count": 11,
   "id": "8908f15b",
   "metadata": {},
   "outputs": [],
   "source": [
    "import os\n",
    "import sys\n",
    "\n",
    "notebook_path = os.path.abspath(\"\")\n",
    "src_path = os.path.join(notebook_path, \"..\", \"src\")\n",
    "sys.path.append(src_path)\n",
    "\n",
    "from data.simulation import generate_dataset"
   ]
  },
  {
   "cell_type": "code",
   "execution_count": null,
   "id": "d20a7f29",
   "metadata": {},
   "outputs": [
    {
     "ename": "FileNotFoundError",
     "evalue": "Antenna config not found: ./antenna_configs/alma.cycle10.1.cfg",
     "output_type": "error",
     "traceback": [
      "\u001b[0;31m---------------------------------------------------------------------------\u001b[0m",
      "\u001b[0;31mFileNotFoundError\u001b[0m                         Traceback (most recent call last)",
      "Cell \u001b[0;32mIn[14], line 3\u001b[0m\n\u001b[1;32m      1\u001b[0m antenna_config_path \u001b[38;5;241m=\u001b[39m \u001b[38;5;124m\"\u001b[39m\u001b[38;5;124m./antenna_configs/alma.cycle10.1.cfg\u001b[39m\u001b[38;5;124m\"\u001b[39m\n\u001b[0;32m----> 3\u001b[0m dataset \u001b[38;5;241m=\u001b[39m \u001b[43mgenerate_dataset\u001b[49m\u001b[43m(\u001b[49m\n\u001b[1;32m      4\u001b[0m \u001b[43m            \u001b[49m\u001b[43mantenna_config_path\u001b[49m\u001b[38;5;241;43m=\u001b[39;49m\u001b[43mantenna_config_path\u001b[49m\u001b[43m,\u001b[49m\n\u001b[1;32m      5\u001b[0m \u001b[43m            \u001b[49m\u001b[43mfreq_start\u001b[49m\u001b[38;5;241;43m=\u001b[39;49m\u001b[38;5;241;43m35.0\u001b[39;49m\u001b[43m,\u001b[49m\n\u001b[1;32m      6\u001b[0m \u001b[43m            \u001b[49m\u001b[43mfreq_end\u001b[49m\u001b[38;5;241;43m=\u001b[39;49m\u001b[38;5;241;43m50.0\u001b[39;49m\u001b[43m,\u001b[49m\n\u001b[1;32m      7\u001b[0m \u001b[43m            \u001b[49m\u001b[43mn_frequencies\u001b[49m\u001b[38;5;241;43m=\u001b[39;49m\u001b[38;5;241;43m50\u001b[39;49m\u001b[43m,\u001b[49m\n\u001b[1;32m      8\u001b[0m \u001b[43m            \u001b[49m\u001b[43mdate_string\u001b[49m\u001b[38;5;241;43m=\u001b[39;49m\u001b[38;5;124;43m\"\u001b[39;49m\u001b[38;5;124;43m2002-05-10\u001b[39;49m\u001b[38;5;124;43m\"\u001b[39;49m\u001b[43m,\u001b[49m\n\u001b[1;32m      9\u001b[0m \u001b[43m            \u001b[49m\u001b[43mobservation_time\u001b[49m\u001b[38;5;241;43m=\u001b[39;49m\u001b[38;5;124;43m\"\u001b[39;49m\u001b[38;5;124;43m4h\u001b[39;49m\u001b[38;5;124;43m\"\u001b[39;49m\u001b[43m,\u001b[49m\n\u001b[1;32m     10\u001b[0m \u001b[43m            \u001b[49m\u001b[43mdeclination\u001b[49m\u001b[38;5;241;43m=\u001b[39;49m\u001b[38;5;124;43m\"\u001b[39;49m\u001b[38;5;124;43m-45d00m00s\u001b[39;49m\u001b[38;5;124;43m\"\u001b[39;49m\u001b[43m,\u001b[49m\n\u001b[1;32m     11\u001b[0m \u001b[43m            \u001b[49m\u001b[43mintegration_time\u001b[49m\u001b[38;5;241;43m=\u001b[39;49m\u001b[38;5;241;43m180.0\u001b[39;49m\u001b[43m,\u001b[49m\n\u001b[1;32m     12\u001b[0m \u001b[43m            \u001b[49m\u001b[43mn_point_sources\u001b[49m\u001b[38;5;241;43m=\u001b[39;49m\u001b[38;5;241;43m15\u001b[39;49m\u001b[43m,\u001b[49m\n\u001b[1;32m     13\u001b[0m \u001b[43m            \u001b[49m\u001b[43mpoint_flux_density\u001b[49m\u001b[38;5;241;43m=\u001b[39;49m\u001b[38;5;241;43m1.0\u001b[39;49m\u001b[43m,\u001b[49m\n\u001b[1;32m     14\u001b[0m \u001b[43m            \u001b[49m\u001b[43mpoint_spectral_index\u001b[49m\u001b[38;5;241;43m=\u001b[39;49m\u001b[38;5;241;43m3.0\u001b[39;49m\u001b[43m,\u001b[49m\n\u001b[1;32m     15\u001b[0m \u001b[43m            \u001b[49m\u001b[43minclude_gaussian\u001b[49m\u001b[38;5;241;43m=\u001b[39;49m\u001b[38;5;28;43;01mTrue\u001b[39;49;00m\u001b[43m,\u001b[49m\n\u001b[1;32m     16\u001b[0m \u001b[43m            \u001b[49m\u001b[43mgaussian_flux_density\u001b[49m\u001b[38;5;241;43m=\u001b[39;49m\u001b[38;5;241;43m10.0\u001b[39;49m\u001b[43m,\u001b[49m\n\u001b[1;32m     17\u001b[0m \u001b[43m            \u001b[49m\u001b[43mgaussian_position\u001b[49m\u001b[38;5;241;43m=\u001b[39;49m\u001b[43m(\u001b[49m\u001b[38;5;241;43m0\u001b[39;49m\u001b[43m,\u001b[49m\u001b[43m \u001b[49m\u001b[38;5;241;43m0\u001b[39;49m\u001b[43m)\u001b[49m\u001b[43m,\u001b[49m\n\u001b[1;32m     18\u001b[0m \u001b[43m            \u001b[49m\u001b[43mgaussian_minor_radius\u001b[49m\u001b[38;5;241;43m=\u001b[39;49m\u001b[38;5;241;43m20.0\u001b[39;49m\u001b[43m,\u001b[49m\n\u001b[1;32m     19\u001b[0m \u001b[43m            \u001b[49m\u001b[43mgaussian_major_radius\u001b[49m\u001b[38;5;241;43m=\u001b[39;49m\u001b[38;5;241;43m30.0\u001b[39;49m\u001b[43m,\u001b[49m\n\u001b[1;32m     20\u001b[0m \u001b[43m            \u001b[49m\u001b[43mgaussian_theta_angle\u001b[49m\u001b[38;5;241;43m=\u001b[39;49m\u001b[38;5;241;43m60.0\u001b[39;49m\n\u001b[1;32m     21\u001b[0m \u001b[43m        \u001b[49m\u001b[43m)\u001b[49m\n",
      "File \u001b[0;32m~/Escritorio/Esteban - USACH/2025.02/bda-interferometry/notebooks/../src/data/simulation.py:393\u001b[0m, in \u001b[0;36mgenerate_dataset\u001b[0;34m(antenna_config_path, freq_start, freq_end, n_frequencies, date_string, observation_time, declination, integration_time, n_point_sources, point_flux_density, point_spectral_index, include_gaussian, gaussian_flux_density, gaussian_position, gaussian_minor_radius, gaussian_major_radius, gaussian_theta_angle)\u001b[0m\n\u001b[1;32m    342\u001b[0m \u001b[38;5;250m\u001b[39m\u001b[38;5;124;03m\"\"\"\u001b[39;00m\n\u001b[1;32m    343\u001b[0m \u001b[38;5;124;03mComplete pipeline to generate a simulated interferometry dataset.\u001b[39;00m\n\u001b[1;32m    344\u001b[0m \u001b[38;5;124;03m\u001b[39;00m\n\u001b[0;32m   (...)\u001b[0m\n\u001b[1;32m    389\u001b[0m \u001b[38;5;124;03m    Complete simulated dataset from Pyralysis\u001b[39;00m\n\u001b[1;32m    390\u001b[0m \u001b[38;5;124;03m\"\"\"\u001b[39;00m\n\u001b[1;32m    392\u001b[0m \u001b[38;5;66;03m# Load antenna configuration\u001b[39;00m\n\u001b[0;32m--> 393\u001b[0m interferometer \u001b[38;5;241m=\u001b[39m \u001b[43mload_antenna_configuration\u001b[49m\u001b[43m(\u001b[49m\u001b[43mantenna_config_path\u001b[49m\u001b[43m)\u001b[49m\n\u001b[1;32m    395\u001b[0m \u001b[38;5;66;03m# Configure observation parameters\u001b[39;00m\n\u001b[1;32m    396\u001b[0m interferometer, freq, ref_freq \u001b[38;5;241m=\u001b[39m configure_observation(\n\u001b[1;32m    397\u001b[0m     interferometer\u001b[38;5;241m=\u001b[39minterferometer,\n\u001b[1;32m    398\u001b[0m     freq_start\u001b[38;5;241m=\u001b[39mfreq_start,\n\u001b[0;32m   (...)\u001b[0m\n\u001b[1;32m    404\u001b[0m     integration_time\u001b[38;5;241m=\u001b[39mintegration_time\n\u001b[1;32m    405\u001b[0m )\n",
      "File \u001b[0;32m~/Escritorio/Esteban - USACH/2025.02/bda-interferometry/notebooks/../src/data/simulation.py:53\u001b[0m, in \u001b[0;36mload_antenna_configuration\u001b[0;34m(antenna_config_path)\u001b[0m\n\u001b[1;32m     31\u001b[0m \u001b[38;5;250m\u001b[39m\u001b[38;5;124;03m\"\"\"\u001b[39;00m\n\u001b[1;32m     32\u001b[0m \u001b[38;5;124;03mLoad antenna configuration from file.\u001b[39;00m\n\u001b[1;32m     33\u001b[0m \u001b[38;5;124;03m\u001b[39;00m\n\u001b[0;32m   (...)\u001b[0m\n\u001b[1;32m     50\u001b[0m \u001b[38;5;124;03m    If the antenna configuration file does not exist\u001b[39;00m\n\u001b[1;32m     51\u001b[0m \u001b[38;5;124;03m\"\"\"\u001b[39;00m\n\u001b[1;32m     52\u001b[0m \u001b[38;5;28;01mif\u001b[39;00m \u001b[38;5;129;01mnot\u001b[39;00m os\u001b[38;5;241m.\u001b[39mpath\u001b[38;5;241m.\u001b[39mexists(antenna_config_path):\n\u001b[0;32m---> 53\u001b[0m     \u001b[38;5;28;01mraise\u001b[39;00m \u001b[38;5;167;01mFileNotFoundError\u001b[39;00m(\u001b[38;5;124mf\u001b[39m\u001b[38;5;124m\"\u001b[39m\u001b[38;5;124mAntenna config not found: \u001b[39m\u001b[38;5;132;01m{\u001b[39;00mantenna_config_path\u001b[38;5;132;01m}\u001b[39;00m\u001b[38;5;124m\"\u001b[39m)\n\u001b[1;32m     55\u001b[0m io_instance \u001b[38;5;241m=\u001b[39m AntennaConfigurationIo(input_name\u001b[38;5;241m=\u001b[39mantenna_config_path)\n\u001b[1;32m     56\u001b[0m \u001b[38;5;28;01mreturn\u001b[39;00m io_instance\u001b[38;5;241m.\u001b[39mread()\n",
      "\u001b[0;31mFileNotFoundError\u001b[0m: Antenna config not found: ./antenna_configs/alma.cycle10.1.cfg"
     ]
    }
   ],
   "source": [
    "antenna_config_path = \"../antenna_configs/alma.cycle10.1.cfg\"\n",
    "\n",
    "dataset = generate_dataset(\n",
    "            antenna_config_path=antenna_config_path,\n",
    "            freq_start=35.0,\n",
    "            freq_end=50.0,\n",
    "            n_frequencies=50,\n",
    "            date_string=\"2002-05-10\",\n",
    "            observation_time=\"4h\",\n",
    "            declination=\"-45d00m00s\",\n",
    "            integration_time=180.0,\n",
    "            n_point_sources=15,\n",
    "            point_flux_density=1.0,\n",
    "            point_spectral_index=3.0,\n",
    "            include_gaussian=True,\n",
    "            gaussian_flux_density=10.0,\n",
    "            gaussian_position=(0, 0),\n",
    "            gaussian_minor_radius=20.0,\n",
    "            gaussian_major_radius=30.0,\n",
    "            gaussian_theta_angle=60.0\n",
    "        )"
   ]
  }
 ],
 "metadata": {
  "kernelspec": {
   "display_name": "bda-env",
   "language": "python",
   "name": "python3"
  },
  "language_info": {
   "codemirror_mode": {
    "name": "ipython",
    "version": 3
   },
   "file_extension": ".py",
   "mimetype": "text/x-python",
   "name": "python",
   "nbconvert_exporter": "python",
   "pygments_lexer": "ipython3",
   "version": "3.10.18"
  }
 },
 "nbformat": 4,
 "nbformat_minor": 5
}
