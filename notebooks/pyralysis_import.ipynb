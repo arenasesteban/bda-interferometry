{
 "cells": [
  {
   "cell_type": "code",
   "execution_count": 1,
   "id": "c02b767b",
   "metadata": {},
   "outputs": [],
   "source": [
    "import os\n",
    "import dask.array as da\n",
    "import numpy as np\n",
    "\n",
    "from pyralysis.io.antenna_config_io import AntennaConfigurationIo\n",
    "from pyralysis.models.sky import PointSource\n",
    "from pyralysis.models.sky import GaussianSource\n",
    "from pyralysis.models.sky import CompositeSource\n",
    "from pyralysis.simulation.core import Simulator\n",
    "\n",
    "from astropy.time import Time\n",
    "from astropy.coordinates import Angle\n",
    "import astropy.units as u\n",
    "from astropy.constants import c"
   ]
  },
  {
   "cell_type": "code",
   "execution_count": 2,
   "id": "160885c3",
   "metadata": {},
   "outputs": [
    {
     "name": "stdout",
     "output_type": "stream",
     "text": [
      "/home/esteban/Escritorio/Esteban - USACH/2025.02/bda-interferometry/notebooks/../antenna_configs/alma.cycle10.1.cfg\n"
     ]
    }
   ],
   "source": [
    "notebook_path = os.path.abspath(\"\")\n",
    "existing_cfg_filename = \"../antenna_configs/alma.cycle10.1.cfg\"\n",
    "existing_cfg_path = os.path.join(notebook_path, existing_cfg_filename)\n",
    "\n",
    "print(existing_cfg_path)"
   ]
  },
  {
   "cell_type": "code",
   "execution_count": 3,
   "id": "805978b9",
   "metadata": {},
   "outputs": [
    {
     "name": "stdout",
     "output_type": "stream",
     "text": [
      "Number of frequencies: 50\n",
      "Reference frequency: 42.5 GHz\n",
      "FOV (radians):  0.0007137915666666667\n",
      "Number of point sources:  8\n",
      "Total number of sources:  9\n"
     ]
    }
   ],
   "source": [
    "da.random.seed(777)\n",
    "np.random.seed(777)\n",
    "\n",
    "io_instance = AntennaConfigurationIo(input_name=existing_cfg_path)\n",
    "interferometer = io_instance.read()\n",
    "\n",
    "freq = np.linspace(35, 50, 50) * u.GHz  # ALMA Band 1\n",
    "ref_freq = np.median(freq)\n",
    "\n",
    "nodim_freq = freq.to(u.Hz).value\n",
    "print(\"Number of frequencies:\", len(nodim_freq))\n",
    "print(\"Reference frequency:\", ref_freq)\n",
    "\n",
    "diameter = interferometer.antenna_array.diameters.compute()\n",
    "\n",
    "fov = (c.value / nodim_freq[0]) / diameter[0]\n",
    "print(\"FOV (radians): \", fov)\n",
    "date_string = \"2002-05-10\"\n",
    "\n",
    "interferometer.configure_observation(\n",
    "    frequencies=freq,\n",
    "    reference_time=Time(date_string, format='iso'),\n",
    "    observation_time='4h',\n",
    "    declination=Angle(\"-45d00m00s\"),\n",
    "    frequency_step_hz=None,\n",
    "    integration_time=180 * u.s,\n",
    ")\n",
    "\n",
    "n_sources = np.random.randint(1, high=20, size=1, dtype=int)[0]\n",
    "print(\"Number of point sources: \", n_sources)\n",
    "\n",
    "s_0 = 1.0 * u.mJy  # flux density of all sources\n",
    "l_0 = np.random.uniform(low=-fov, high=fov, size=n_sources)  # l in radians for all sources\n",
    "m_0 = np.random.uniform(low=-fov, high=fov, size=n_sources)  # m in radians\n",
    "\n",
    "l_0_gaussian = np.random.uniform(low=-fov, high=fov, size=1)  # l in radians for all sources\n",
    "m_0_gaussian = np.random.uniform(low=-fov, high=fov, size=1)  # m in radians\n",
    "\n",
    "sources = []\n",
    "for i in range(n_sources):\n",
    "    sources.append(\n",
    "        PointSource(\n",
    "            reference_intensity=s_0,\n",
    "            spectral_index=3.0,\n",
    "            reference_frequency=ref_freq,\n",
    "            direction_cosines=(l_0[i], m_0[i])\n",
    "        )\n",
    "    )\n",
    "\n",
    "gaussian_source = GaussianSource(\n",
    "    reference_intensity=10 * u.Jy,\n",
    "    direction_cosines=(0, 0),\n",
    "    minor_radius=Angle(20 * u.arcsec),\n",
    "    major_radius=Angle(30 * u.arcsec),\n",
    "    theta_angle=Angle(60 * u.deg)\n",
    ")\n",
    "\n",
    "sources.append(gaussian_source)\n",
    "\n",
    "print(\"Total number of sources: \", len(sources))\n",
    "\n",
    "composite_source = CompositeSource(sources=sources)\n",
    "\n",
    "sim = Simulator(interferometer=interferometer, sources=composite_source)"
   ]
  },
  {
   "cell_type": "code",
   "execution_count": null,
   "id": "fca7d44f",
   "metadata": {},
   "outputs": [],
   "source": [
    "simulated_dataset = sim.simulate()\n",
    "\n",
    "simulated_dataset"
   ]
  }
 ],
 "metadata": {
  "kernelspec": {
   "display_name": "bda-env",
   "language": "python",
   "name": "python3"
  },
  "language_info": {
   "codemirror_mode": {
    "name": "ipython",
    "version": 3
   },
   "file_extension": ".py",
   "mimetype": "text/x-python",
   "name": "python",
   "nbconvert_exporter": "python",
   "pygments_lexer": "ipython3",
   "version": "3.10.18"
  }
 },
 "nbformat": 4,
 "nbformat_minor": 5
}
